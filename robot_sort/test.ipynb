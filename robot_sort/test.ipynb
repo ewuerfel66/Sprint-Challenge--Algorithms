{
 "cells": [
  {
   "cell_type": "code",
   "execution_count": 1,
   "metadata": {},
   "outputs": [],
   "source": [
    "from robot_sort import SortingRobot"
   ]
  },
  {
   "cell_type": "code",
   "execution_count": 52,
   "metadata": {},
   "outputs": [],
   "source": [
    "l = [5, 4, 3, 2, 1]"
   ]
  },
  {
   "cell_type": "code",
   "execution_count": 53,
   "metadata": {},
   "outputs": [],
   "source": [
    "# Instantiate a sorting Robit\n",
    "robot = SortingRobot(l)"
   ]
  },
  {
   "cell_type": "code",
   "execution_count": 54,
   "metadata": {},
   "outputs": [],
   "source": [
    "def one_pass(robot):\n",
    "    swap_count = 0\n",
    "\n",
    "    # Pick up item for comparison\n",
    "    robot.swap_item()\n",
    "    \n",
    "    # Move to the next neighbor if possible\n",
    "    while robot.can_move_right():\n",
    "        robot.move_right()\n",
    "        \n",
    "        # Robot has nothing\n",
    "        if robot.compare_item() == None:\n",
    "            robot.move_left()\n",
    "            robot.swap_item()\n",
    "        \n",
    "        # Neighbors out of order\n",
    "        elif robot.compare_item() == 1:\n",
    "            # Place larger, pick up smaller\n",
    "            robot.swap_item()\n",
    "            swap_count += 1\n",
    "            robot.move_left()\n",
    "            \n",
    "            robot.swap_item()\n",
    "            robot.move_right()\n",
    "            \n",
    "        # Neighbors are in order (including the same)\n",
    "        elif robot.compare_item() <= 0:\n",
    "            # move back to original position and place card\n",
    "            robot.move_left()\n",
    "            robot.swap_item()\n",
    "            # Move to next neighbor\n",
    "            robot.move_right()\n",
    "            \n",
    "    # Reset position, if robit can't move right\n",
    "    else:\n",
    "        while robot.can_move_left():\n",
    "            robot.move_left()\n",
    "            \n",
    "    return swap_count"
   ]
  },
  {
   "cell_type": "code",
   "execution_count": 55,
   "metadata": {},
   "outputs": [],
   "source": [
    "def sort(robot):\n",
    "    swap_count = 1\n",
    "    \n",
    "    while swap_count > 0:\n",
    "        swap_count = one_pass(robot)\n",
    "        \n",
    "    return robot._list"
   ]
  },
  {
   "cell_type": "code",
   "execution_count": 60,
   "metadata": {
    "scrolled": true
   },
   "outputs": [
    {
     "data": {
      "text/plain": [
       "(0, [1, 2, 3, 4, 5])"
      ]
     },
     "execution_count": 60,
     "metadata": {},
     "output_type": "execute_result"
    }
   ],
   "source": [
    "one_pass(robot), l"
   ]
  },
  {
   "cell_type": "code",
   "execution_count": 59,
   "metadata": {},
   "outputs": [
    {
     "data": {
      "text/plain": [
       "(1, [1, 2, 3, 4, 5])"
      ]
     },
     "execution_count": 59,
     "metadata": {},
     "output_type": "execute_result"
    }
   ],
   "source": [
    "one_pass(robot), l"
   ]
  },
  {
   "cell_type": "code",
   "execution_count": 7,
   "metadata": {},
   "outputs": [
    {
     "data": {
      "text/plain": [
       "[4, 3, 2, 1, None]"
      ]
     },
     "execution_count": 7,
     "metadata": {},
     "output_type": "execute_result"
    }
   ],
   "source": [
    "sort(robot)"
   ]
  },
  {
   "cell_type": "code",
   "execution_count": 53,
   "metadata": {},
   "outputs": [],
   "source": [
    "swap_count = 0\n",
    "\n",
    "# Pick up item for comparison\n",
    "robot.swap_item()\n",
    "\n",
    "# Move to the next neighbor if possible\n",
    "if robot.can_move_right():\n",
    "    robot.move_right()\n",
    "\n",
    "    # Neighbors out of order\n",
    "    if robot.compare_item() == 1:\n",
    "        # Place larger, pick up smaller\n",
    "        robot.swap_item()\n",
    "        swap_count += 1\n",
    "        robot.move_left()\n",
    "\n",
    "        robot.swap_item()\n",
    "        robot.move_right()"
   ]
  },
  {
   "cell_type": "code",
   "execution_count": 54,
   "metadata": {},
   "outputs": [
    {
     "data": {
      "text/plain": [
       "[1, 2, 4, 3, 5, 6, 8, 7, 9]"
      ]
     },
     "execution_count": 54,
     "metadata": {},
     "output_type": "execute_result"
    }
   ],
   "source": [
    "l"
   ]
  },
  {
   "cell_type": "code",
   "execution_count": null,
   "metadata": {},
   "outputs": [],
   "source": []
  }
 ],
 "metadata": {
  "kernelspec": {
   "display_name": "Python 3",
   "language": "python",
   "name": "python3"
  },
  "language_info": {
   "codemirror_mode": {
    "name": "ipython",
    "version": 3
   },
   "file_extension": ".py",
   "mimetype": "text/x-python",
   "name": "python",
   "nbconvert_exporter": "python",
   "pygments_lexer": "ipython3",
   "version": "3.7.3"
  }
 },
 "nbformat": 4,
 "nbformat_minor": 2
}
